{
 "cells": [
  {
   "cell_type": "code",
   "execution_count": 2,
   "id": "680dc644",
   "metadata": {},
   "outputs": [
    {
     "name": "stdout",
     "output_type": "stream",
     "text": [
      "\n",
      "==== TODO JOURNAL APP ====\n",
      "1. Add todo\n",
      "2. Remove todo\n",
      "3. Edit todo\n",
      "4. Save todo\n",
      "5. Show todo\n",
      "6. Add journal\n",
      "7. Remove journal\n",
      "8. Edit journal\n",
      "9. Save journal\n",
      "10. Show journal\n",
      "11. Exit\n"
     ]
    },
    {
     "ename": "NameError",
     "evalue": "name 'todolist' is not defined",
     "output_type": "error",
     "traceback": [
      "\u001b[31m---------------------------------------------------------------------------\u001b[39m",
      "\u001b[31mNameError\u001b[39m                                 Traceback (most recent call last)",
      "\u001b[36mCell\u001b[39m\u001b[36m \u001b[39m\u001b[32mIn[2]\u001b[39m\u001b[32m, line 72\u001b[39m\n\u001b[32m     68\u001b[39m         \u001b[38;5;28;01melse\u001b[39;00m:\n\u001b[32m     69\u001b[39m             \u001b[38;5;28mprint\u001b[39m(\u001b[33m\"\u001b[39m\u001b[33mInvalid input. Please try again.\u001b[39m\u001b[33m\"\u001b[39m)\n\u001b[32m---> \u001b[39m\u001b[32m72\u001b[39m \u001b[43mmain\u001b[49m\u001b[43m(\u001b[49m\u001b[43m)\u001b[49m\n",
      "\u001b[36mCell\u001b[39m\u001b[36m \u001b[39m\u001b[32mIn[2]\u001b[39m\u001b[32m, line 22\u001b[39m, in \u001b[36mmain\u001b[39m\u001b[34m()\u001b[39m\n\u001b[32m     20\u001b[39m \u001b[38;5;28;01mif\u001b[39;00m choice == \u001b[33m\"\u001b[39m\u001b[33m1\u001b[39m\u001b[33m\"\u001b[39m:\n\u001b[32m     21\u001b[39m     todo = \u001b[38;5;28minput\u001b[39m(\u001b[33m\"\u001b[39m\u001b[33mEnter yor todo: \u001b[39m\u001b[33m\"\u001b[39m)\n\u001b[32m---> \u001b[39m\u001b[32m22\u001b[39m     add_todo(\u001b[43mtodolist\u001b[49m, todo)\n\u001b[32m     24\u001b[39m \u001b[38;5;28;01melif\u001b[39;00m choice ==\u001b[33m'\u001b[39m\u001b[33m2\u001b[39m\u001b[33m'\u001b[39m:\n\u001b[32m     25\u001b[39m     todo =\u001b[38;5;28minput\u001b[39m(\u001b[33m\"\u001b[39m\u001b[33mtodo to remove: \u001b[39m\u001b[33m\"\u001b[39m)\n",
      "\u001b[31mNameError\u001b[39m: name 'todolist' is not defined"
     ]
    }
   ],
   "source": [
    "from storagejournal import *\n",
    "from storagetodo import *\n",
    "\n",
    "def main():\n",
    "    while True:\n",
    "        print('\\n==== TODO JOURNAL APP ====')\n",
    "        print(\"1. Add todo\")\n",
    "        print(\"2. Remove todo\")\n",
    "        print(\"3. Edit todo\")\n",
    "        print(\"4. Save todo\")\n",
    "        print(\"5. Show todo\")\n",
    "        print(\"6. Add journal\")\n",
    "        print(\"7. Remove journal\")\n",
    "        print(\"8. Edit journal\")\n",
    "        print(\"9. Save journal\")\n",
    "        print(\"10. Show journal\")\n",
    "        print(\"11. Exit\")\n",
    "        choice = input(\"Choose a option: \")\n",
    "        \n",
    "        if choice == \"1\":\n",
    "            todo = input(\"Enter yor todo: \")\n",
    "            add_todo(todolist, todo)\n",
    "        \n",
    "        elif choice =='2':\n",
    "            todo =input(\"todo to remove: \")\n",
    "            remove_todo(todolist, todo)\n",
    "        \n",
    "        \n",
    "        elif choice =='3':\n",
    "            todo = input(\"Todo to edit: \")\n",
    "            if todo in todolist:\n",
    "                newtodo = input(\"New todo: \")\n",
    "                edit_todo(todolist, todo, newtodo)\n",
    "            else:\n",
    "                print(\"todo not found.\")\n",
    "        \n",
    "        elif choice =='4':\n",
    "            save_todo(todolist)\n",
    "        \n",
    "        elif choice =='5':\n",
    "            show_todo(todolist)\n",
    "            \n",
    "        elif choice =='6':\n",
    "            diary = input('Enter your journal: ')\n",
    "            add_journal(diary, journal)\n",
    "        \n",
    "        elif choice =='7':\n",
    "            diary = input('journal to remove: ')\n",
    "            remove_journal(diary, journal)\n",
    "        \n",
    "        elif choice =='8':\n",
    "            diary = input('journal to rewmove: ')\n",
    "            if diary in journal:\n",
    "                newjournal = input(\"New journal: \")\n",
    "                edit_journal(diary, journal, newjournal)\n",
    "                \n",
    "        \n",
    "        elif choice =='9':\n",
    "            save_journal(journal)\n",
    "        \n",
    "        elif choice =='10':\n",
    "            show_journal(journal)\n",
    "        \n",
    "        elif choice =='11':\n",
    "            print('Exiting program...')\n",
    "            break\n",
    "        \n",
    "        else:\n",
    "            print(\"Invalid input. Please try again.\")\n",
    "            \n",
    "            \n",
    "main()\n",
    "        "
   ]
  },
  {
   "cell_type": "code",
   "execution_count": null,
   "id": "a7b6985c",
   "metadata": {},
   "outputs": [],
   "source": []
  }
 ],
 "metadata": {
  "kernelspec": {
   "display_name": "Python 3",
   "language": "python",
   "name": "python3"
  },
  "language_info": {
   "codemirror_mode": {
    "name": "ipython",
    "version": 3
   },
   "file_extension": ".py",
   "mimetype": "text/x-python",
   "name": "python",
   "nbconvert_exporter": "python",
   "pygments_lexer": "ipython3",
   "version": "3.13.7"
  }
 },
 "nbformat": 4,
 "nbformat_minor": 5
}
